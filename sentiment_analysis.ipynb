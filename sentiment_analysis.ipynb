{
  "nbformat": 4,
  "nbformat_minor": 0,
  "metadata": {
    "colab": {
      "name": "데이터인공지능기말.ipynb",
      "provenance": []
    },
    "kernelspec": {
      "name": "python3",
      "display_name": "Python 3"
    },
    "language_info": {
      "name": "python"
    },
    "widgets": {
      "application/vnd.jupyter.widget-state+json": {
        "a901068b15fb4950bbece88121f721a3": {
          "model_module": "@jupyter-widgets/controls",
          "model_name": "HBoxModel",
          "state": {
            "_view_name": "HBoxView",
            "_dom_classes": [],
            "_model_name": "HBoxModel",
            "_view_module": "@jupyter-widgets/controls",
            "_model_module_version": "1.5.0",
            "_view_count": null,
            "_view_module_version": "1.5.0",
            "box_style": "",
            "layout": "IPY_MODEL_700a0f0011a44cfd92a7d01f36f39906",
            "_model_module": "@jupyter-widgets/controls",
            "children": [
              "IPY_MODEL_aecc8f60f66d457aa345391bc89b2d22",
              "IPY_MODEL_38a3ba4d7bd4429ebde08e8ba59e7de8"
            ]
          }
        },
        "700a0f0011a44cfd92a7d01f36f39906": {
          "model_module": "@jupyter-widgets/base",
          "model_name": "LayoutModel",
          "state": {
            "_view_name": "LayoutView",
            "grid_template_rows": null,
            "right": null,
            "justify_content": null,
            "_view_module": "@jupyter-widgets/base",
            "overflow": null,
            "_model_module_version": "1.2.0",
            "_view_count": null,
            "flex_flow": null,
            "width": null,
            "min_width": null,
            "border": null,
            "align_items": null,
            "bottom": null,
            "_model_module": "@jupyter-widgets/base",
            "top": null,
            "grid_column": null,
            "overflow_y": null,
            "overflow_x": null,
            "grid_auto_flow": null,
            "grid_area": null,
            "grid_template_columns": null,
            "flex": null,
            "_model_name": "LayoutModel",
            "justify_items": null,
            "grid_row": null,
            "max_height": null,
            "align_content": null,
            "visibility": null,
            "align_self": null,
            "height": null,
            "min_height": null,
            "padding": null,
            "grid_auto_rows": null,
            "grid_gap": null,
            "max_width": null,
            "order": null,
            "_view_module_version": "1.2.0",
            "grid_template_areas": null,
            "object_position": null,
            "object_fit": null,
            "grid_auto_columns": null,
            "margin": null,
            "display": null,
            "left": null
          }
        },
        "aecc8f60f66d457aa345391bc89b2d22": {
          "model_module": "@jupyter-widgets/controls",
          "model_name": "FloatProgressModel",
          "state": {
            "_view_name": "ProgressView",
            "style": "IPY_MODEL_085766ce1b5e45c4b263e9fc73dab284",
            "_dom_classes": [],
            "description": "Progress: 100%",
            "_model_name": "FloatProgressModel",
            "bar_style": "success",
            "max": 244,
            "_view_module": "@jupyter-widgets/controls",
            "_model_module_version": "1.5.0",
            "value": 244,
            "_view_count": null,
            "_view_module_version": "1.5.0",
            "orientation": "horizontal",
            "min": 0,
            "description_tooltip": null,
            "_model_module": "@jupyter-widgets/controls",
            "layout": "IPY_MODEL_282a84f5f4f9443ca530b9278dc3d431"
          }
        },
        "38a3ba4d7bd4429ebde08e8ba59e7de8": {
          "model_module": "@jupyter-widgets/controls",
          "model_name": "HTMLModel",
          "state": {
            "_view_name": "HTMLView",
            "style": "IPY_MODEL_d5d207054b9a4b8b91519c3543bd64d0",
            "_dom_classes": [],
            "description": "",
            "_model_name": "HTMLModel",
            "placeholder": "​",
            "_view_module": "@jupyter-widgets/controls",
            "_model_module_version": "1.5.0",
            "value": " 244/244 [02:18&lt;00:00,  1.76it/s]",
            "_view_count": null,
            "_view_module_version": "1.5.0",
            "description_tooltip": null,
            "_model_module": "@jupyter-widgets/controls",
            "layout": "IPY_MODEL_e1ed5420c92f48fea4a71780d522a815"
          }
        },
        "085766ce1b5e45c4b263e9fc73dab284": {
          "model_module": "@jupyter-widgets/controls",
          "model_name": "ProgressStyleModel",
          "state": {
            "_view_name": "StyleView",
            "_model_name": "ProgressStyleModel",
            "description_width": "initial",
            "_view_module": "@jupyter-widgets/base",
            "_model_module_version": "1.5.0",
            "_view_count": null,
            "_view_module_version": "1.2.0",
            "bar_color": null,
            "_model_module": "@jupyter-widgets/controls"
          }
        },
        "282a84f5f4f9443ca530b9278dc3d431": {
          "model_module": "@jupyter-widgets/base",
          "model_name": "LayoutModel",
          "state": {
            "_view_name": "LayoutView",
            "grid_template_rows": null,
            "right": null,
            "justify_content": null,
            "_view_module": "@jupyter-widgets/base",
            "overflow": null,
            "_model_module_version": "1.2.0",
            "_view_count": null,
            "flex_flow": null,
            "width": null,
            "min_width": null,
            "border": null,
            "align_items": null,
            "bottom": null,
            "_model_module": "@jupyter-widgets/base",
            "top": null,
            "grid_column": null,
            "overflow_y": null,
            "overflow_x": null,
            "grid_auto_flow": null,
            "grid_area": null,
            "grid_template_columns": null,
            "flex": null,
            "_model_name": "LayoutModel",
            "justify_items": null,
            "grid_row": null,
            "max_height": null,
            "align_content": null,
            "visibility": null,
            "align_self": null,
            "height": null,
            "min_height": null,
            "padding": null,
            "grid_auto_rows": null,
            "grid_gap": null,
            "max_width": null,
            "order": null,
            "_view_module_version": "1.2.0",
            "grid_template_areas": null,
            "object_position": null,
            "object_fit": null,
            "grid_auto_columns": null,
            "margin": null,
            "display": null,
            "left": null
          }
        },
        "d5d207054b9a4b8b91519c3543bd64d0": {
          "model_module": "@jupyter-widgets/controls",
          "model_name": "DescriptionStyleModel",
          "state": {
            "_view_name": "StyleView",
            "_model_name": "DescriptionStyleModel",
            "description_width": "",
            "_view_module": "@jupyter-widgets/base",
            "_model_module_version": "1.5.0",
            "_view_count": null,
            "_view_module_version": "1.2.0",
            "_model_module": "@jupyter-widgets/controls"
          }
        },
        "e1ed5420c92f48fea4a71780d522a815": {
          "model_module": "@jupyter-widgets/base",
          "model_name": "LayoutModel",
          "state": {
            "_view_name": "LayoutView",
            "grid_template_rows": null,
            "right": null,
            "justify_content": null,
            "_view_module": "@jupyter-widgets/base",
            "overflow": null,
            "_model_module_version": "1.2.0",
            "_view_count": null,
            "flex_flow": null,
            "width": null,
            "min_width": null,
            "border": null,
            "align_items": null,
            "bottom": null,
            "_model_module": "@jupyter-widgets/base",
            "top": null,
            "grid_column": null,
            "overflow_y": null,
            "overflow_x": null,
            "grid_auto_flow": null,
            "grid_area": null,
            "grid_template_columns": null,
            "flex": null,
            "_model_name": "LayoutModel",
            "justify_items": null,
            "grid_row": null,
            "max_height": null,
            "align_content": null,
            "visibility": null,
            "align_self": null,
            "height": null,
            "min_height": null,
            "padding": null,
            "grid_auto_rows": null,
            "grid_gap": null,
            "max_width": null,
            "order": null,
            "_view_module_version": "1.2.0",
            "grid_template_areas": null,
            "object_position": null,
            "object_fit": null,
            "grid_auto_columns": null,
            "margin": null,
            "display": null,
            "left": null
          }
        }
      }
    }
  },
  "cells": [
    {
      "cell_type": "markdown",
      "metadata": {
        "id": "vLP_9V-Q8JwC"
      },
      "source": [
        "## 초반 준비\n",
        "### 필요 packages import & install"
      ]
    },
    {
      "cell_type": "code",
      "metadata": {
        "colab": {
          "base_uri": "https://localhost:8080/"
        },
        "id": "pJUGga9ygRe3",
        "outputId": "fe5720e7-0c6a-4446-8e03-d0891bef9c0e"
      },
      "source": [
        "import nltk\n",
        "nltk.download('punkt')"
      ],
      "execution_count": null,
      "outputs": [
        {
          "output_type": "stream",
          "text": [
            "[nltk_data] Downloading package punkt to /root/nltk_data...\n",
            "[nltk_data]   Unzipping tokenizers/punkt.zip.\n"
          ],
          "name": "stdout"
        },
        {
          "output_type": "execute_result",
          "data": {
            "text/plain": [
              "True"
            ]
          },
          "metadata": {
            "tags": []
          },
          "execution_count": 1
        }
      ]
    },
    {
      "cell_type": "code",
      "metadata": {
        "colab": {
          "base_uri": "https://localhost:8080/"
        },
        "id": "x4AAVXa_ZzZb",
        "outputId": "7309ee1d-2b3c-4d39-dea7-db320a4edf1f"
      },
      "source": [
        "pip install vaderSentiment"
      ],
      "execution_count": null,
      "outputs": [
        {
          "output_type": "stream",
          "text": [
            "Collecting vaderSentiment\n",
            "\u001b[?25l  Downloading https://files.pythonhosted.org/packages/76/fc/310e16254683c1ed35eeb97386986d6c00bc29df17ce280aed64d55537e9/vaderSentiment-3.3.2-py2.py3-none-any.whl (125kB)\n",
            "\r\u001b[K     |██▋                             | 10kB 14.7MB/s eta 0:00:01\r\u001b[K     |█████▏                          | 20kB 20.4MB/s eta 0:00:01\r\u001b[K     |███████▉                        | 30kB 11.1MB/s eta 0:00:01\r\u001b[K     |██████████▍                     | 40kB 8.4MB/s eta 0:00:01\r\u001b[K     |█████████████                   | 51kB 5.3MB/s eta 0:00:01\r\u001b[K     |███████████████▋                | 61kB 5.0MB/s eta 0:00:01\r\u001b[K     |██████████████████▏             | 71kB 5.6MB/s eta 0:00:01\r\u001b[K     |████████████████████▉           | 81kB 6.1MB/s eta 0:00:01\r\u001b[K     |███████████████████████▍        | 92kB 6.1MB/s eta 0:00:01\r\u001b[K     |██████████████████████████      | 102kB 6.5MB/s eta 0:00:01\r\u001b[K     |████████████████████████████▋   | 112kB 6.5MB/s eta 0:00:01\r\u001b[K     |███████████████████████████████▏| 122kB 6.5MB/s eta 0:00:01\r\u001b[K     |████████████████████████████████| 133kB 6.5MB/s \n",
            "\u001b[?25hRequirement already satisfied: requests in /usr/local/lib/python3.7/dist-packages (from vaderSentiment) (2.23.0)\n",
            "Requirement already satisfied: urllib3!=1.25.0,!=1.25.1,<1.26,>=1.21.1 in /usr/local/lib/python3.7/dist-packages (from requests->vaderSentiment) (1.24.3)\n",
            "Requirement already satisfied: certifi>=2017.4.17 in /usr/local/lib/python3.7/dist-packages (from requests->vaderSentiment) (2020.12.5)\n",
            "Requirement already satisfied: chardet<4,>=3.0.2 in /usr/local/lib/python3.7/dist-packages (from requests->vaderSentiment) (3.0.4)\n",
            "Requirement already satisfied: idna<3,>=2.5 in /usr/local/lib/python3.7/dist-packages (from requests->vaderSentiment) (2.10)\n",
            "Installing collected packages: vaderSentiment\n",
            "Successfully installed vaderSentiment-3.3.2\n"
          ],
          "name": "stdout"
        }
      ]
    },
    {
      "cell_type": "code",
      "metadata": {
        "id": "_bXWyZ6NZI2_"
      },
      "source": [
        "import re\n",
        "import pandas as pd\n",
        "import numpy as np\n",
        "from collections import defaultdict\n",
        "\n",
        "# Set Pandas to display all rows of dataframes\n",
        "pd.set_option('display.max_rows', 500)\n",
        "\n",
        "# nltk\n",
        "from nltk import tokenize\n",
        "\n",
        "from vaderSentiment.vaderSentiment import SentimentIntensityAnalyzer\n",
        "\n",
        "# Plotting tools\n",
        "import matplotlib.pyplot as plt\n",
        "import matplotlib\n",
        "plt.style.use('fivethirtyeight')\n",
        "%matplotlib inline\n",
        "\n",
        "import warnings\n",
        "warnings.filterwarnings(\"ignore\", category=DeprecationWarning)\n",
        "\n",
        "from tqdm import tqdm_notebook as tqdm\n",
        "from tqdm import trange"
      ],
      "execution_count": null,
      "outputs": []
    },
    {
      "cell_type": "markdown",
      "metadata": {
        "id": "cgYjIh2J8Y2v"
      },
      "source": [
        "##데이터 정리\n",
        "###초기 데이터프레임 생성\n",
        "df: ['date' (year), 'president', 'transcript', 'sentiments' (all initialized to 0.0)]"
      ]
    },
    {
      "cell_type": "code",
      "metadata": {
        "colab": {
          "base_uri": "https://localhost:8080/",
          "height": 343
        },
        "id": "AYgclanEda6Y",
        "outputId": "a8aefa35-64e3-4ed0-c0a7-ea76e2cee5a8"
      },
      "source": [
        "import pandas as pd\n",
        "url = 'https://raw.githubusercontent.com/BrianWeinstein/state-of-the-union/master/transcripts.csv'\n",
        "df = pd.read_csv(url, error_bad_lines=False)\n",
        "del df[\"title\"]\n",
        "del df[\"url\"]\n",
        "df['sentiments']=0.0\n",
        "df['date'] = pd.DatetimeIndex(df['date']).year\n",
        "\n",
        "df.head(10)"
      ],
      "execution_count": 21,
      "outputs": [
        {
          "output_type": "execute_result",
          "data": {
            "text/html": [
              "<div>\n",
              "<style scoped>\n",
              "    .dataframe tbody tr th:only-of-type {\n",
              "        vertical-align: middle;\n",
              "    }\n",
              "\n",
              "    .dataframe tbody tr th {\n",
              "        vertical-align: top;\n",
              "    }\n",
              "\n",
              "    .dataframe thead th {\n",
              "        text-align: right;\n",
              "    }\n",
              "</style>\n",
              "<table border=\"1\" class=\"dataframe\">\n",
              "  <thead>\n",
              "    <tr style=\"text-align: right;\">\n",
              "      <th></th>\n",
              "      <th>date</th>\n",
              "      <th>president</th>\n",
              "      <th>transcript</th>\n",
              "      <th>sentiments</th>\n",
              "    </tr>\n",
              "  </thead>\n",
              "  <tbody>\n",
              "    <tr>\n",
              "      <th>0</th>\n",
              "      <td>2018</td>\n",
              "      <td>Donald J. Trump</td>\n",
              "      <td>\\nMr. Speaker, Mr. Vice President, Members of ...</td>\n",
              "      <td>0.0</td>\n",
              "    </tr>\n",
              "    <tr>\n",
              "      <th>1</th>\n",
              "      <td>2017</td>\n",
              "      <td>Donald J. Trump</td>\n",
              "      <td>Thank you very much. Mr. Speaker, Mr. Vice Pre...</td>\n",
              "      <td>0.0</td>\n",
              "    </tr>\n",
              "    <tr>\n",
              "      <th>2</th>\n",
              "      <td>2016</td>\n",
              "      <td>Barack Obama</td>\n",
              "      <td>Thank you. Mr. Speaker, Mr. Vice President, Me...</td>\n",
              "      <td>0.0</td>\n",
              "    </tr>\n",
              "    <tr>\n",
              "      <th>3</th>\n",
              "      <td>2015</td>\n",
              "      <td>Barack Obama</td>\n",
              "      <td>The President. Mr. Speaker, Mr. Vice President...</td>\n",
              "      <td>0.0</td>\n",
              "    </tr>\n",
              "    <tr>\n",
              "      <th>4</th>\n",
              "      <td>2014</td>\n",
              "      <td>Barack Obama</td>\n",
              "      <td>The President. Mr. Speaker, Mr. Vice President...</td>\n",
              "      <td>0.0</td>\n",
              "    </tr>\n",
              "    <tr>\n",
              "      <th>5</th>\n",
              "      <td>2013</td>\n",
              "      <td>Barack Obama</td>\n",
              "      <td>Please, everybody, have a seat. Mr. Speaker, M...</td>\n",
              "      <td>0.0</td>\n",
              "    </tr>\n",
              "    <tr>\n",
              "      <th>6</th>\n",
              "      <td>2012</td>\n",
              "      <td>Barack Obama</td>\n",
              "      <td>Mr. Speaker, Mr. Vice President, Members of Co...</td>\n",
              "      <td>0.0</td>\n",
              "    </tr>\n",
              "    <tr>\n",
              "      <th>7</th>\n",
              "      <td>2011</td>\n",
              "      <td>Barack Obama</td>\n",
              "      <td>Mr. Speaker, Mr. Vice President, Members of Co...</td>\n",
              "      <td>0.0</td>\n",
              "    </tr>\n",
              "    <tr>\n",
              "      <th>8</th>\n",
              "      <td>2010</td>\n",
              "      <td>Barack Obama</td>\n",
              "      <td>Madam Speaker, Vice President Biden, Members o...</td>\n",
              "      <td>0.0</td>\n",
              "    </tr>\n",
              "    <tr>\n",
              "      <th>9</th>\n",
              "      <td>2009</td>\n",
              "      <td>Barack Obama</td>\n",
              "      <td>Madam Speaker, Mr. Vice President, Members of ...</td>\n",
              "      <td>0.0</td>\n",
              "    </tr>\n",
              "  </tbody>\n",
              "</table>\n",
              "</div>"
            ],
            "text/plain": [
              "   date  ... sentiments\n",
              "0  2018  ...        0.0\n",
              "1  2017  ...        0.0\n",
              "2  2016  ...        0.0\n",
              "3  2015  ...        0.0\n",
              "4  2014  ...        0.0\n",
              "5  2013  ...        0.0\n",
              "6  2012  ...        0.0\n",
              "7  2011  ...        0.0\n",
              "8  2010  ...        0.0\n",
              "9  2009  ...        0.0\n",
              "\n",
              "[10 rows x 4 columns]"
            ]
          },
          "metadata": {
            "tags": []
          },
          "execution_count": 21
        }
      ]
    },
    {
      "cell_type": "markdown",
      "metadata": {
        "id": "VkaIUpQO8tu-"
      },
      "source": [
        "###Sentiment 계산\n",
        "sentence를 tokenize하여 vaderSentiment의 compound부분 sentiment 점수를 각각 구해 평균을 구한다"
      ]
    },
    {
      "cell_type": "code",
      "metadata": {
        "id": "iclnaQjogdhF"
      },
      "source": [
        "analyzer = SentimentIntensityAnalyzer()"
      ],
      "execution_count": null,
      "outputs": []
    },
    {
      "cell_type": "code",
      "metadata": {
        "colab": {
          "base_uri": "https://localhost:8080/",
          "height": 66,
          "referenced_widgets": [
            "a901068b15fb4950bbece88121f721a3",
            "700a0f0011a44cfd92a7d01f36f39906",
            "aecc8f60f66d457aa345391bc89b2d22",
            "38a3ba4d7bd4429ebde08e8ba59e7de8",
            "085766ce1b5e45c4b263e9fc73dab284",
            "282a84f5f4f9443ca530b9278dc3d431",
            "d5d207054b9a4b8b91519c3543bd64d0",
            "e1ed5420c92f48fea4a71780d522a815"
          ]
        },
        "id": "XCuZZE-Sfbtk",
        "outputId": "646de664-7ed9-479c-d71c-22a4440dfc43"
      },
      "source": [
        "for ind in tqdm(df.index, desc='Progress'):\n",
        "     text = df['transcript'][ind]\n",
        "     sentence_list = tokenize.sent_tokenize(text)\n",
        "     sentiment = 0.0\n",
        "     \n",
        "     for sentence in sentence_list:\n",
        "         vs = analyzer.polarity_scores(sentence)\n",
        "         sentiment += vs['compound']\n",
        "            \n",
        "     sentiment = sentiment / len(sentence_list)\n",
        "\n",
        "     df.at[ind,'sentiments'] = sentiment\n",
        "     "
      ],
      "execution_count": null,
      "outputs": [
        {
          "output_type": "display_data",
          "data": {
            "application/vnd.jupyter.widget-view+json": {
              "model_id": "a901068b15fb4950bbece88121f721a3",
              "version_minor": 0,
              "version_major": 2
            },
            "text/plain": [
              "HBox(children=(FloatProgress(value=0.0, description='Progress', max=244.0, style=ProgressStyle(description_wid…"
            ]
          },
          "metadata": {
            "tags": []
          }
        },
        {
          "output_type": "stream",
          "text": [
            "\n"
          ],
          "name": "stdout"
        }
      ]
    },
    {
      "cell_type": "code",
      "metadata": {
        "colab": {
          "base_uri": "https://localhost:8080/",
          "height": 343
        },
        "id": "3P5av2q4qsL6",
        "outputId": "a9831da2-47e2-4ff7-fbae-1db2fa53b9f8"
      },
      "source": [
        "df.head(10)"
      ],
      "execution_count": 22,
      "outputs": [
        {
          "output_type": "execute_result",
          "data": {
            "text/html": [
              "<div>\n",
              "<style scoped>\n",
              "    .dataframe tbody tr th:only-of-type {\n",
              "        vertical-align: middle;\n",
              "    }\n",
              "\n",
              "    .dataframe tbody tr th {\n",
              "        vertical-align: top;\n",
              "    }\n",
              "\n",
              "    .dataframe thead th {\n",
              "        text-align: right;\n",
              "    }\n",
              "</style>\n",
              "<table border=\"1\" class=\"dataframe\">\n",
              "  <thead>\n",
              "    <tr style=\"text-align: right;\">\n",
              "      <th></th>\n",
              "      <th>date</th>\n",
              "      <th>president</th>\n",
              "      <th>transcript</th>\n",
              "      <th>sentiments</th>\n",
              "    </tr>\n",
              "  </thead>\n",
              "  <tbody>\n",
              "    <tr>\n",
              "      <th>0</th>\n",
              "      <td>2018</td>\n",
              "      <td>Donald J. Trump</td>\n",
              "      <td>\\nMr. Speaker, Mr. Vice President, Members of ...</td>\n",
              "      <td>0.0</td>\n",
              "    </tr>\n",
              "    <tr>\n",
              "      <th>1</th>\n",
              "      <td>2017</td>\n",
              "      <td>Donald J. Trump</td>\n",
              "      <td>Thank you very much. Mr. Speaker, Mr. Vice Pre...</td>\n",
              "      <td>0.0</td>\n",
              "    </tr>\n",
              "    <tr>\n",
              "      <th>2</th>\n",
              "      <td>2016</td>\n",
              "      <td>Barack Obama</td>\n",
              "      <td>Thank you. Mr. Speaker, Mr. Vice President, Me...</td>\n",
              "      <td>0.0</td>\n",
              "    </tr>\n",
              "    <tr>\n",
              "      <th>3</th>\n",
              "      <td>2015</td>\n",
              "      <td>Barack Obama</td>\n",
              "      <td>The President. Mr. Speaker, Mr. Vice President...</td>\n",
              "      <td>0.0</td>\n",
              "    </tr>\n",
              "    <tr>\n",
              "      <th>4</th>\n",
              "      <td>2014</td>\n",
              "      <td>Barack Obama</td>\n",
              "      <td>The President. Mr. Speaker, Mr. Vice President...</td>\n",
              "      <td>0.0</td>\n",
              "    </tr>\n",
              "    <tr>\n",
              "      <th>5</th>\n",
              "      <td>2013</td>\n",
              "      <td>Barack Obama</td>\n",
              "      <td>Please, everybody, have a seat. Mr. Speaker, M...</td>\n",
              "      <td>0.0</td>\n",
              "    </tr>\n",
              "    <tr>\n",
              "      <th>6</th>\n",
              "      <td>2012</td>\n",
              "      <td>Barack Obama</td>\n",
              "      <td>Mr. Speaker, Mr. Vice President, Members of Co...</td>\n",
              "      <td>0.0</td>\n",
              "    </tr>\n",
              "    <tr>\n",
              "      <th>7</th>\n",
              "      <td>2011</td>\n",
              "      <td>Barack Obama</td>\n",
              "      <td>Mr. Speaker, Mr. Vice President, Members of Co...</td>\n",
              "      <td>0.0</td>\n",
              "    </tr>\n",
              "    <tr>\n",
              "      <th>8</th>\n",
              "      <td>2010</td>\n",
              "      <td>Barack Obama</td>\n",
              "      <td>Madam Speaker, Vice President Biden, Members o...</td>\n",
              "      <td>0.0</td>\n",
              "    </tr>\n",
              "    <tr>\n",
              "      <th>9</th>\n",
              "      <td>2009</td>\n",
              "      <td>Barack Obama</td>\n",
              "      <td>Madam Speaker, Mr. Vice President, Members of ...</td>\n",
              "      <td>0.0</td>\n",
              "    </tr>\n",
              "  </tbody>\n",
              "</table>\n",
              "</div>"
            ],
            "text/plain": [
              "   date  ... sentiments\n",
              "0  2018  ...        0.0\n",
              "1  2017  ...        0.0\n",
              "2  2016  ...        0.0\n",
              "3  2015  ...        0.0\n",
              "4  2014  ...        0.0\n",
              "5  2013  ...        0.0\n",
              "6  2012  ...        0.0\n",
              "7  2011  ...        0.0\n",
              "8  2010  ...        0.0\n",
              "9  2009  ...        0.0\n",
              "\n",
              "[10 rows x 4 columns]"
            ]
          },
          "metadata": {
            "tags": []
          },
          "execution_count": 22
        }
      ]
    },
    {
      "cell_type": "markdown",
      "metadata": {
        "id": "-dTn1bb09Ain"
      },
      "source": [
        "###최종 데이터프레임 생성\n",
        "기존 df에 transcrpit 제거 후 동일 년도 gdp growth를 붙인다\n",
        "\n",
        "df_final:['date', 'president', 'sentiments', 'gdp_growth']"
      ]
    },
    {
      "cell_type": "code",
      "metadata": {
        "id": "7kqgWPvHtmRP"
      },
      "source": [
        "df_final = df[['date', 'president', 'sentiments']].copy()\n",
        "df_final.drop_duplicates(subset = 'date', keep = 'first', inplace = True)"
      ],
      "execution_count": null,
      "outputs": []
    },
    {
      "cell_type": "code",
      "metadata": {
        "id": "tffg4zp88Muh"
      },
      "source": [
        "df_gdp = pd.read_csv(\"./USGDP_1791-2018.csv\")"
      ],
      "execution_count": null,
      "outputs": []
    },
    {
      "cell_type": "code",
      "metadata": {
        "id": "sAmKJFM37iSr"
      },
      "source": [
        "df_final['gdp_growth'] = df_final.date.map(df_gdp.set_index('Year')['GDP Growth rate'])"
      ],
      "execution_count": null,
      "outputs": []
    },
    {
      "cell_type": "code",
      "metadata": {
        "colab": {
          "base_uri": "https://localhost:8080/",
          "height": 343
        },
        "id": "XKkh4sQW-aNI",
        "outputId": "d7e23908-48a0-48a9-f63b-7245d9b305ba"
      },
      "source": [
        "df_final.head(10)"
      ],
      "execution_count": 23,
      "outputs": [
        {
          "output_type": "execute_result",
          "data": {
            "text/html": [
              "<div>\n",
              "<style scoped>\n",
              "    .dataframe tbody tr th:only-of-type {\n",
              "        vertical-align: middle;\n",
              "    }\n",
              "\n",
              "    .dataframe tbody tr th {\n",
              "        vertical-align: top;\n",
              "    }\n",
              "\n",
              "    .dataframe thead th {\n",
              "        text-align: right;\n",
              "    }\n",
              "</style>\n",
              "<table border=\"1\" class=\"dataframe\">\n",
              "  <thead>\n",
              "    <tr style=\"text-align: right;\">\n",
              "      <th></th>\n",
              "      <th>date</th>\n",
              "      <th>president</th>\n",
              "      <th>sentiments</th>\n",
              "      <th>gdp_growth</th>\n",
              "    </tr>\n",
              "  </thead>\n",
              "  <tbody>\n",
              "    <tr>\n",
              "      <th>0</th>\n",
              "      <td>2018</td>\n",
              "      <td>Donald J. Trump</td>\n",
              "      <td>0.119823</td>\n",
              "      <td>0.029274</td>\n",
              "    </tr>\n",
              "    <tr>\n",
              "      <th>1</th>\n",
              "      <td>2017</td>\n",
              "      <td>Donald J. Trump</td>\n",
              "      <td>0.202572</td>\n",
              "      <td>0.023698</td>\n",
              "    </tr>\n",
              "    <tr>\n",
              "      <th>2</th>\n",
              "      <td>2016</td>\n",
              "      <td>Barack Obama</td>\n",
              "      <td>0.139046</td>\n",
              "      <td>0.016381</td>\n",
              "    </tr>\n",
              "    <tr>\n",
              "      <th>3</th>\n",
              "      <td>2015</td>\n",
              "      <td>Barack Obama</td>\n",
              "      <td>0.194940</td>\n",
              "      <td>0.029080</td>\n",
              "    </tr>\n",
              "    <tr>\n",
              "      <th>4</th>\n",
              "      <td>2014</td>\n",
              "      <td>Barack Obama</td>\n",
              "      <td>0.207133</td>\n",
              "      <td>0.025256</td>\n",
              "    </tr>\n",
              "    <tr>\n",
              "      <th>5</th>\n",
              "      <td>2013</td>\n",
              "      <td>Barack Obama</td>\n",
              "      <td>0.190326</td>\n",
              "      <td>0.018423</td>\n",
              "    </tr>\n",
              "    <tr>\n",
              "      <th>6</th>\n",
              "      <td>2012</td>\n",
              "      <td>Barack Obama</td>\n",
              "      <td>0.131801</td>\n",
              "      <td>0.022493</td>\n",
              "    </tr>\n",
              "    <tr>\n",
              "      <th>7</th>\n",
              "      <td>2011</td>\n",
              "      <td>Barack Obama</td>\n",
              "      <td>0.193616</td>\n",
              "      <td>0.015508</td>\n",
              "    </tr>\n",
              "    <tr>\n",
              "      <th>8</th>\n",
              "      <td>2010</td>\n",
              "      <td>Barack Obama</td>\n",
              "      <td>0.095411</td>\n",
              "      <td>0.025643</td>\n",
              "    </tr>\n",
              "    <tr>\n",
              "      <th>9</th>\n",
              "      <td>2009</td>\n",
              "      <td>Barack Obama</td>\n",
              "      <td>0.112709</td>\n",
              "      <td>-0.025371</td>\n",
              "    </tr>\n",
              "  </tbody>\n",
              "</table>\n",
              "</div>"
            ],
            "text/plain": [
              "   date        president  sentiments  gdp_growth\n",
              "0  2018  Donald J. Trump    0.119823    0.029274\n",
              "1  2017  Donald J. Trump    0.202572    0.023698\n",
              "2  2016     Barack Obama    0.139046    0.016381\n",
              "3  2015     Barack Obama    0.194940    0.029080\n",
              "4  2014     Barack Obama    0.207133    0.025256\n",
              "5  2013     Barack Obama    0.190326    0.018423\n",
              "6  2012     Barack Obama    0.131801    0.022493\n",
              "7  2011     Barack Obama    0.193616    0.015508\n",
              "8  2010     Barack Obama    0.095411    0.025643\n",
              "9  2009     Barack Obama    0.112709   -0.025371"
            ]
          },
          "metadata": {
            "tags": []
          },
          "execution_count": 23
        }
      ]
    },
    {
      "cell_type": "markdown",
      "metadata": {
        "id": "TpA0IPdy9Xs0"
      },
      "source": [
        "##결과\n",
        "###데이터 시각화\n",
        "각 대통령별로 다른 색으로 매 해 연설의 sentiment 를 나타내는 끊긴 실선 그래프와 그 대통령의 임기동안 매 해 gdp 변화율을 나타내는 실선\n"
      ]
    },
    {
      "cell_type": "code",
      "metadata": {
        "colab": {
          "base_uri": "https://localhost:8080/",
          "height": 608
        },
        "id": "o5FeAOUhputU",
        "outputId": "1850a314-28b0-4daa-daa6-09d8f15dde66"
      },
      "source": [
        "import matplotlib.ticker as ticker\n",
        "plt.rcParams[\"figure.figsize\"] = (18,10)\n",
        "\n",
        "df_graph1 = df_final[['date', 'president', 'sentiments']].copy()\n",
        "df_graph2 = df_final[['date', 'president', 'gdp_growth']].copy()\n",
        "\n",
        "plt.plot(df_graph1.pivot(index='date', columns='president'))\n",
        "plt.plot(df_graph2.pivot(index='date', columns='president'),linestyle=':')\n",
        "\n",
        "\n",
        "plt.show()"
      ],
      "execution_count": null,
      "outputs": [
        {
          "output_type": "display_data",
          "data": {
            "image/png": "[encoded data removed]",
            "text/plain": [
              "<Figure size 1296x720 with 1 Axes>"
            ]
          },
          "metadata": {
            "tags": [],
            "needs_background": "light"
          }
        }
      ]
    },
    {
      "cell_type": "markdown",
      "metadata": {
        "id": "AdCjBZDk_n1o"
      },
      "source": [
        "###전체 correlation"
      ]
    },
    {
      "cell_type": "code",
      "metadata": {
        "colab": {
          "base_uri": "https://localhost:8080/"
        },
        "id": "r6v7-eG8BTse",
        "outputId": "10e6ef6c-4964-43f2-ea7a-d2db21209b9b"
      },
      "source": [
        "column_1 = df_final['sentiments']\n",
        "column_2 = df_final['gdp_growth']\n",
        "correlation = column_1.corr(column_2)\n",
        "print(correlation   )"
      ],
      "execution_count": null,
      "outputs": [
        {
          "output_type": "stream",
          "text": [
            "0.10883807821741594\n"
          ],
          "name": "stdout"
        }
      ]
    },
    {
      "cell_type": "markdown",
      "metadata": {
        "id": "WReVdDHW_QyC"
      },
      "source": [
        "###각 대통령 별로 sentiment와 gdp growth correlation 정리\n",
        "\n",
        "df_president_sentiment: ['president', 'correlation']"
      ]
    },
    {
      "cell_type": "code",
      "metadata": {
        "id": "nouBml-nDlEF"
      },
      "source": [
        "president_names = df_final.president.unique()\n",
        "\n",
        "df_president_sentiment = pd.DataFrame(columns=['president','correlation'])\n",
        "j=0\n",
        "\n",
        "for n in president_names:\n",
        "    df_temp = pd.DataFrame(columns=['president', 'sentiments', 'gdp_growth'])\n",
        "    i=0\n",
        "    for ind in df_final.index:\n",
        "        if df_final['president'][ind] is n:\n",
        "            df_temp.loc[i] = (df_final['president'][ind], df_final['sentiments'][ind], df_final['gdp_growth'][ind])\n",
        "            i=i+1\n",
        "    column_1 = df_temp['sentiments']\n",
        "    column_2 = df_temp['gdp_growth']\n",
        "    correlation = column_1.corr(column_2)\n",
        "    df_president_sentiment.loc[j]=(df_temp['president'][0],correlation)\n",
        "    j=j+1\n"
      ],
      "execution_count": null,
      "outputs": []
    },
    {
      "cell_type": "code",
      "metadata": {
        "colab": {
          "base_uri": "https://localhost:8080/",
          "height": 639
        },
        "id": "QjRJT7_UHnbR",
        "outputId": "72808fc7-68ac-4fe2-c3c8-f5d08f093e0f"
      },
      "source": [
        "df_president_sentiment.sort_values('correlation',ascending=False).head(20)"
      ],
      "execution_count": 24,
      "outputs": [
        {
          "output_type": "execute_result",
          "data": {
            "text/html": [
              "<div>\n",
              "<style scoped>\n",
              "    .dataframe tbody tr th:only-of-type {\n",
              "        vertical-align: middle;\n",
              "    }\n",
              "\n",
              "    .dataframe tbody tr th {\n",
              "        vertical-align: top;\n",
              "    }\n",
              "\n",
              "    .dataframe thead th {\n",
              "        text-align: right;\n",
              "    }\n",
              "</style>\n",
              "<table border=\"1\" class=\"dataframe\">\n",
              "  <thead>\n",
              "    <tr style=\"text-align: right;\">\n",
              "      <th></th>\n",
              "      <th>president</th>\n",
              "      <th>correlation</th>\n",
              "    </tr>\n",
              "  </thead>\n",
              "  <tbody>\n",
              "    <tr>\n",
              "      <th>10</th>\n",
              "      <td>John F. Kennedy</td>\n",
              "      <td>0.995554</td>\n",
              "    </tr>\n",
              "    <tr>\n",
              "      <th>22</th>\n",
              "      <td>Benjamin Harrison</td>\n",
              "      <td>0.979089</td>\n",
              "    </tr>\n",
              "    <tr>\n",
              "      <th>29</th>\n",
              "      <td>Franklin Pierce</td>\n",
              "      <td>0.957799</td>\n",
              "    </tr>\n",
              "    <tr>\n",
              "      <th>36</th>\n",
              "      <td>John Quincy Adams</td>\n",
              "      <td>0.925395</td>\n",
              "    </tr>\n",
              "    <tr>\n",
              "      <th>14</th>\n",
              "      <td>Herbert Hoover</td>\n",
              "      <td>0.911876</td>\n",
              "    </tr>\n",
              "    <tr>\n",
              "      <th>40</th>\n",
              "      <td>John Adams</td>\n",
              "      <td>0.873384</td>\n",
              "    </tr>\n",
              "    <tr>\n",
              "      <th>18</th>\n",
              "      <td>William Howard Taft</td>\n",
              "      <td>0.854283</td>\n",
              "    </tr>\n",
              "    <tr>\n",
              "      <th>12</th>\n",
              "      <td>Harry S. Truman</td>\n",
              "      <td>0.773792</td>\n",
              "    </tr>\n",
              "    <tr>\n",
              "      <th>21</th>\n",
              "      <td>Grover Cleveland</td>\n",
              "      <td>0.748840</td>\n",
              "    </tr>\n",
              "    <tr>\n",
              "      <th>35</th>\n",
              "      <td>Andrew Jackson</td>\n",
              "      <td>0.738940</td>\n",
              "    </tr>\n",
              "    <tr>\n",
              "      <th>24</th>\n",
              "      <td>Rutherford B. Hayes</td>\n",
              "      <td>0.681543</td>\n",
              "    </tr>\n",
              "    <tr>\n",
              "      <th>5</th>\n",
              "      <td>Ronald Reagan</td>\n",
              "      <td>0.677066</td>\n",
              "    </tr>\n",
              "    <tr>\n",
              "      <th>7</th>\n",
              "      <td>Gerald R. Ford</td>\n",
              "      <td>0.604553</td>\n",
              "    </tr>\n",
              "    <tr>\n",
              "      <th>3</th>\n",
              "      <td>William J. Clinton</td>\n",
              "      <td>0.580616</td>\n",
              "    </tr>\n",
              "    <tr>\n",
              "      <th>19</th>\n",
              "      <td>Theodore Roosevelt</td>\n",
              "      <td>0.501374</td>\n",
              "    </tr>\n",
              "    <tr>\n",
              "      <th>23</th>\n",
              "      <td>Chester A. Arthur</td>\n",
              "      <td>0.440600</td>\n",
              "    </tr>\n",
              "    <tr>\n",
              "      <th>25</th>\n",
              "      <td>Ulysses S. Grant</td>\n",
              "      <td>0.438303</td>\n",
              "    </tr>\n",
              "    <tr>\n",
              "      <th>11</th>\n",
              "      <td>Dwight D. Eisenhower</td>\n",
              "      <td>0.418659</td>\n",
              "    </tr>\n",
              "    <tr>\n",
              "      <th>1</th>\n",
              "      <td>Barack Obama</td>\n",
              "      <td>0.397776</td>\n",
              "    </tr>\n",
              "    <tr>\n",
              "      <th>9</th>\n",
              "      <td>Lyndon B. Johnson</td>\n",
              "      <td>0.252945</td>\n",
              "    </tr>\n",
              "  </tbody>\n",
              "</table>\n",
              "</div>"
            ],
            "text/plain": [
              "               president  correlation\n",
              "10       John F. Kennedy     0.995554\n",
              "22     Benjamin Harrison     0.979089\n",
              "29       Franklin Pierce     0.957799\n",
              "36     John Quincy Adams     0.925395\n",
              "14        Herbert Hoover     0.911876\n",
              "40            John Adams     0.873384\n",
              "18   William Howard Taft     0.854283\n",
              "12       Harry S. Truman     0.773792\n",
              "21      Grover Cleveland     0.748840\n",
              "35        Andrew Jackson     0.738940\n",
              "24   Rutherford B. Hayes     0.681543\n",
              "5          Ronald Reagan     0.677066\n",
              "7         Gerald R. Ford     0.604553\n",
              "3     William J. Clinton     0.580616\n",
              "19    Theodore Roosevelt     0.501374\n",
              "23     Chester A. Arthur     0.440600\n",
              "25      Ulysses S. Grant     0.438303\n",
              "11  Dwight D. Eisenhower     0.418659\n",
              "1           Barack Obama     0.397776\n",
              "9      Lyndon B. Johnson     0.252945"
            ]
          },
          "metadata": {
            "tags": []
          },
          "execution_count": 24
        }
      ]
    }
  ]
}